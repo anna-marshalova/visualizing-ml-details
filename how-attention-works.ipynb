{
 "cells": [
  {
   "cell_type": "code",
   "execution_count": 1,
   "id": "5686a7a3",
   "metadata": {
    "execution": {
     "iopub.execute_input": "2023-08-09T09:14:12.665571Z",
     "iopub.status.busy": "2023-08-09T09:14:12.665061Z",
     "iopub.status.idle": "2023-08-09T09:14:12.678487Z",
     "shell.execute_reply": "2023-08-09T09:14:12.677150Z"
    },
    "papermill": {
     "duration": 0.024186,
     "end_time": "2023-08-09T09:14:12.681092",
     "exception": false,
     "start_time": "2023-08-09T09:14:12.656906",
     "status": "completed"
    },
    "tags": []
   },
   "outputs": [],
   "source": [
    "import warnings\n",
    "warnings.filterwarnings(\"ignore\")"
   ]
  },
  {
   "cell_type": "code",
   "execution_count": 2,
   "id": "07fe5e66",
   "metadata": {
    "execution": {
     "iopub.execute_input": "2023-08-09T09:14:12.694646Z",
     "iopub.status.busy": "2023-08-09T09:14:12.694219Z",
     "iopub.status.idle": "2023-08-09T09:14:28.669041Z",
     "shell.execute_reply": "2023-08-09T09:14:28.668018Z"
    },
    "id": "1VZs_2HMWqJS",
    "outputId": "643b1290-1780-47a3-81bb-5888386ada56",
    "papermill": {
     "duration": 15.985578,
     "end_time": "2023-08-09T09:14:28.672384",
     "exception": false,
     "start_time": "2023-08-09T09:14:12.686806",
     "status": "completed"
    },
    "tags": []
   },
   "outputs": [
    {
     "name": "stdout",
     "output_type": "stream",
     "text": [
      "Requirement already satisfied: transformers in /opt/conda/lib/python3.10/site-packages (4.30.2)\r\n",
      "Requirement already satisfied: filelock in /opt/conda/lib/python3.10/site-packages (from transformers) (3.12.2)\r\n",
      "Requirement already satisfied: huggingface-hub<1.0,>=0.14.1 in /opt/conda/lib/python3.10/site-packages (from transformers) (0.16.4)\r\n",
      "Requirement already satisfied: numpy>=1.17 in /opt/conda/lib/python3.10/site-packages (from transformers) (1.23.5)\r\n",
      "Requirement already satisfied: packaging>=20.0 in /opt/conda/lib/python3.10/site-packages (from transformers) (21.3)\r\n",
      "Requirement already satisfied: pyyaml>=5.1 in /opt/conda/lib/python3.10/site-packages (from transformers) (6.0)\r\n",
      "Requirement already satisfied: regex!=2019.12.17 in /opt/conda/lib/python3.10/site-packages (from transformers) (2023.6.3)\r\n",
      "Requirement already satisfied: requests in /opt/conda/lib/python3.10/site-packages (from transformers) (2.31.0)\r\n",
      "Requirement already satisfied: tokenizers!=0.11.3,<0.14,>=0.11.1 in /opt/conda/lib/python3.10/site-packages (from transformers) (0.13.3)\r\n",
      "Requirement already satisfied: safetensors>=0.3.1 in /opt/conda/lib/python3.10/site-packages (from transformers) (0.3.1)\r\n",
      "Requirement already satisfied: tqdm>=4.27 in /opt/conda/lib/python3.10/site-packages (from transformers) (4.65.0)\r\n",
      "Requirement already satisfied: fsspec in /opt/conda/lib/python3.10/site-packages (from huggingface-hub<1.0,>=0.14.1->transformers) (2023.6.0)\r\n",
      "Requirement already satisfied: typing-extensions>=3.7.4.3 in /opt/conda/lib/python3.10/site-packages (from huggingface-hub<1.0,>=0.14.1->transformers) (4.6.3)\r\n",
      "Requirement already satisfied: pyparsing!=3.0.5,>=2.0.2 in /opt/conda/lib/python3.10/site-packages (from packaging>=20.0->transformers) (3.0.9)\r\n",
      "Requirement already satisfied: charset-normalizer<4,>=2 in /opt/conda/lib/python3.10/site-packages (from requests->transformers) (3.1.0)\r\n",
      "Requirement already satisfied: idna<4,>=2.5 in /opt/conda/lib/python3.10/site-packages (from requests->transformers) (3.4)\r\n",
      "Requirement already satisfied: urllib3<3,>=1.21.1 in /opt/conda/lib/python3.10/site-packages (from requests->transformers) (1.26.15)\r\n",
      "Requirement already satisfied: certifi>=2017.4.17 in /opt/conda/lib/python3.10/site-packages (from requests->transformers) (2023.5.7)\r\n"
     ]
    }
   ],
   "source": [
    "!pip install transformers"
   ]
  },
  {
   "cell_type": "code",
   "execution_count": 3,
   "id": "acf6b35c",
   "metadata": {
    "execution": {
     "iopub.execute_input": "2023-08-09T09:14:28.687305Z",
     "iopub.status.busy": "2023-08-09T09:14:28.686878Z",
     "iopub.status.idle": "2023-08-09T09:14:34.170744Z",
     "shell.execute_reply": "2023-08-09T09:14:34.169414Z"
    },
    "id": "c9Do2srLvbOh",
    "papermill": {
     "duration": 5.495605,
     "end_time": "2023-08-09T09:14:34.174400",
     "exception": false,
     "start_time": "2023-08-09T09:14:28.678795",
     "status": "completed"
    },
    "tags": []
   },
   "outputs": [],
   "source": [
    "import torch\n",
    "import seaborn as sns\n",
    "import matplotlib.pyplot as plt\n",
    "\n",
    "class AttentionVisualizer:\n",
    "    def __init__(self, model, tokenizer, model_family = 't5', token_sep = '▁'):\n",
    "        self.token_sep = token_sep\n",
    "        self.model_family = model_family\n",
    "        self.model = model\n",
    "        self.tokenizer = tokenizer\n",
    "        self.encoder = None\n",
    "        self.encoder_embedding_layer = None\n",
    "        self.encoder_self_attn = None\n",
    "        self.decoder_embedding_layer = None\n",
    "        self.decoder_self_attn = None\n",
    "        self.enc_dec_attn = None\n",
    "        self.q_w = None\n",
    "        self.k_w = None\n",
    "\n",
    "    def tokenize(self, text):\n",
    "        tokens = self.tokenizer.tokenize(text)\n",
    "        input_ids = self.tokenizer.encode(text, return_tensors = 'pt')\n",
    "        tokens = [token.strip(self.token_sep) for token in tokens]\n",
    "        return tokens, input_ids"
   ]
  },
  {
   "cell_type": "code",
   "execution_count": 4,
   "id": "c29a4ffe",
   "metadata": {
    "execution": {
     "iopub.execute_input": "2023-08-09T09:14:34.188781Z",
     "iopub.status.busy": "2023-08-09T09:14:34.188075Z",
     "iopub.status.idle": "2023-08-09T09:14:34.195239Z",
     "shell.execute_reply": "2023-08-09T09:14:34.193876Z"
    },
    "papermill": {
     "duration": 0.017093,
     "end_time": "2023-08-09T09:14:34.197686",
     "exception": false,
     "start_time": "2023-08-09T09:14:34.180593",
     "status": "completed"
    },
    "tags": []
   },
   "outputs": [],
   "source": [
    "def draw_heatmap(scores, xticklabels, yticklabels = None, height = 10, width = 8):\n",
    "    sns.set(rc={'figure.figsize':(height, width)})\n",
    "    ax = sns.heatmap(scores)\n",
    "    ax.set_xticklabels(xticklabels)\n",
    "    ax.set_yticklabels(yticklabels or xticklabels)"
   ]
  },
  {
   "cell_type": "code",
   "execution_count": 5,
   "id": "40dd963a",
   "metadata": {
    "execution": {
     "iopub.execute_input": "2023-08-09T09:14:34.211990Z",
     "iopub.status.busy": "2023-08-09T09:14:34.210875Z",
     "iopub.status.idle": "2023-08-09T09:14:55.151934Z",
     "shell.execute_reply": "2023-08-09T09:14:55.150301Z"
    },
    "papermill": {
     "duration": 20.952325,
     "end_time": "2023-08-09T09:14:55.155847",
     "exception": false,
     "start_time": "2023-08-09T09:14:34.203522",
     "status": "completed"
    },
    "tags": []
   },
   "outputs": [
    {
     "data": {
      "application/vnd.jupyter.widget-view+json": {
       "model_id": "935c63db7fc74994aea08f9b3f9fd8a3",
       "version_major": 2,
       "version_minor": 0
      },
      "text/plain": [
       "Downloading (…)lve/main/config.json:   0%|          | 0.00/1.21k [00:00<?, ?B/s]"
      ]
     },
     "metadata": {},
     "output_type": "display_data"
    },
    {
     "data": {
      "application/vnd.jupyter.widget-view+json": {
       "model_id": "2924cca9959842bfa31f41ea765593e9",
       "version_major": 2,
       "version_minor": 0
      },
      "text/plain": [
       "Downloading (…)ve/main/spiece.model:   0%|          | 0.00/792k [00:00<?, ?B/s]"
      ]
     },
     "metadata": {},
     "output_type": "display_data"
    },
    {
     "data": {
      "application/vnd.jupyter.widget-view+json": {
       "model_id": "176c52ecb0ff4353b83563e19fbc77f2",
       "version_major": 2,
       "version_minor": 0
      },
      "text/plain": [
       "Downloading (…)/main/tokenizer.json:   0%|          | 0.00/1.39M [00:00<?, ?B/s]"
      ]
     },
     "metadata": {},
     "output_type": "display_data"
    },
    {
     "data": {
      "application/vnd.jupyter.widget-view+json": {
       "model_id": "2ba0b8bb031340908ab4325cdc48cccc",
       "version_major": 2,
       "version_minor": 0
      },
      "text/plain": [
       "Downloading model.safetensors:   0%|          | 0.00/892M [00:00<?, ?B/s]"
      ]
     },
     "metadata": {},
     "output_type": "display_data"
    }
   ],
   "source": [
    "from transformers import AutoTokenizer, AutoModel\n",
    "MODEL_NAME = 't5-base'\n",
    "tokenizer = AutoTokenizer.from_pretrained(MODEL_NAME)\n",
    "model = AutoModel.from_pretrained(MODEL_NAME)"
   ]
  },
  {
   "cell_type": "code",
   "execution_count": 6,
   "id": "bd5e9bcd",
   "metadata": {
    "execution": {
     "iopub.execute_input": "2023-08-09T09:14:55.173123Z",
     "iopub.status.busy": "2023-08-09T09:14:55.172649Z",
     "iopub.status.idle": "2023-08-09T09:14:55.185562Z",
     "shell.execute_reply": "2023-08-09T09:14:55.184126Z"
    },
    "id": "qS8DNKlLqmV0",
    "papermill": {
     "duration": 0.025034,
     "end_time": "2023-08-09T09:14:55.188034",
     "exception": false,
     "start_time": "2023-08-09T09:14:55.163000",
     "status": "completed"
    },
    "tags": []
   },
   "outputs": [],
   "source": [
    "class SelfAttentionVisualizer(AttentionVisualizer):\n",
    "    def __init__(self, model, tokenizer, **kwargs):\n",
    "        super().__init__(model, tokenizer, **kwargs)\n",
    "        self.get_layers_t5()\n",
    "        \n",
    "    def get_layers_t5(self):\n",
    "        self.encoder_embedding_layer = self.model.encoder.embed_tokens\n",
    "        self.encoder_self_attn = self.model.encoder.block[0].layer[0].SelfAttention\n",
    "        self.q_w = self.encoder_self_attn.q\n",
    "        self.k_w = self.encoder_self_attn.k\n",
    "\n",
    "    def get_qk(self, input_ids):\n",
    "        embedding = self.encoder_embedding_layer(input_ids)\n",
    "        query = self.q_w(embedding)[0]\n",
    "        key = self.k_w(embedding)[0]\n",
    "        return torch.mm(query, key.T)[:-1, :-1]\n",
    "\n",
    "    def visualize(self, text, scale = 0.3):\n",
    "        tokens, input_ids = self.tokenize(text)\n",
    "        scores = self.get_qk(input_ids)\n",
    "        height = width = len(text) * scale\n",
    "        draw_heatmap(scores.detach().numpy(), tokens, height = height, width = width)"
   ]
  },
  {
   "cell_type": "code",
   "execution_count": 7,
   "id": "6f7727cd",
   "metadata": {
    "execution": {
     "iopub.execute_input": "2023-08-09T09:14:55.203691Z",
     "iopub.status.busy": "2023-08-09T09:14:55.203223Z",
     "iopub.status.idle": "2023-08-09T09:14:55.209228Z",
     "shell.execute_reply": "2023-08-09T09:14:55.208356Z"
    },
    "id": "rr9heuOOMiSz",
    "outputId": "633567d5-e33b-4806-85db-163e95461b07",
    "papermill": {
     "duration": 0.016564,
     "end_time": "2023-08-09T09:14:55.211516",
     "exception": false,
     "start_time": "2023-08-09T09:14:55.194952",
     "status": "completed"
    },
    "tags": []
   },
   "outputs": [],
   "source": [
    "visualizer = SelfAttentionVisualizer(model, tokenizer)"
   ]
  },
  {
   "cell_type": "code",
   "execution_count": 8,
   "id": "9aa22d74",
   "metadata": {
    "execution": {
     "iopub.execute_input": "2023-08-09T09:14:55.227126Z",
     "iopub.status.busy": "2023-08-09T09:14:55.226690Z",
     "iopub.status.idle": "2023-08-09T09:14:55.231718Z",
     "shell.execute_reply": "2023-08-09T09:14:55.230610Z"
    },
    "id": "RjgY6wrQVd7B",
    "papermill": {
     "duration": 0.015763,
     "end_time": "2023-08-09T09:14:55.233997",
     "exception": false,
     "start_time": "2023-08-09T09:14:55.218234",
     "status": "completed"
    },
    "tags": []
   },
   "outputs": [],
   "source": [
    "text = \"Laura is stronger than she looks.\""
   ]
  },
  {
   "cell_type": "code",
   "execution_count": 9,
   "id": "a033e9a0",
   "metadata": {
    "execution": {
     "iopub.execute_input": "2023-08-09T09:14:55.249970Z",
     "iopub.status.busy": "2023-08-09T09:14:55.249523Z",
     "iopub.status.idle": "2023-08-09T09:14:55.904145Z",
     "shell.execute_reply": "2023-08-09T09:14:55.902557Z"
    },
    "id": "WcL1y0ReMmXK",
    "outputId": "7e8c624e-7997-4b44-f224-e3529715390f",
    "papermill": {
     "duration": 0.665893,
     "end_time": "2023-08-09T09:14:55.906795",
     "exception": false,
     "start_time": "2023-08-09T09:14:55.240902",
     "status": "completed"
    },
    "tags": []
   },
   "outputs": [
    {
     "data": {
      "image/png": "[encoded data removed]",
      "text/plain": [
       "<Figure size 660x660 with 2 Axes>"
      ]
     },
     "metadata": {},
     "output_type": "display_data"
    }
   ],
   "source": [
    "visualizer.visualize(text, scale = 0.2)"
   ]
  },
  {
   "cell_type": "code",
   "execution_count": 10,
   "id": "1b44ed0a",
   "metadata": {
    "execution": {
     "iopub.execute_input": "2023-08-09T09:14:55.923354Z",
     "iopub.status.busy": "2023-08-09T09:14:55.922864Z",
     "iopub.status.idle": "2023-08-09T09:14:55.937663Z",
     "shell.execute_reply": "2023-08-09T09:14:55.936297Z"
    },
    "id": "taxXutvt1W03",
    "papermill": {
     "duration": 0.02642,
     "end_time": "2023-08-09T09:14:55.940347",
     "exception": false,
     "start_time": "2023-08-09T09:14:55.913927",
     "status": "completed"
    },
    "tags": []
   },
   "outputs": [],
   "source": [
    "class CrossAttentionVisualizer(AttentionVisualizer):\n",
    "    def __init__(self, model, tokenizer, **kwargs):\n",
    "        super().__init__(model, tokenizer, **kwargs)\n",
    "        self.get_layers_t5()\n",
    "    \n",
    "    def get_layers_t5(self):\n",
    "        self.encoder = self.model.encoder\n",
    "        self.decoder_embedding_layer = self.model.decoder.embed_tokens\n",
    "        self.decoder_self_attn = self.model.decoder.block[0].layer[0]\n",
    "        self.enc_dec_attn = self.model.decoder.block[0].layer[1].EncDecAttention\n",
    "        self.q_w = self.enc_dec_attn.q\n",
    "        self.k_w = self.enc_dec_attn.k\n",
    "\n",
    "    def get_qk(self, encoder_input_ids, decoder_input_ids):\n",
    "        encoder_output = self.encoder(en_input_ids)[0]\n",
    "        decoder_embedding = self.decoder_embedding_layer(decoder_input_ids)\n",
    "        decoder_embedding = self.decoder_self_attn(decoder_embedding)\n",
    "        query = self.q_w(decoder_embedding[0]).squeeze(0)\n",
    "        key = self.k_w(encoder_output).squeeze(0)\n",
    "        print(query.size(), key.size())\n",
    "        return torch.mm(query, key.T)[:-1, :-1]\n",
    "\n",
    "    def draw_heatmap(self, scores, x_tokens, y_tokens, height = 10, width = 8):\n",
    "        sns.set(rc={'figure.figsize':(height, width)})\n",
    "        ax = sns.heatmap(scores.detach().numpy())\n",
    "        ax.set_xticklabels(x_tokens)\n",
    "        ax.set_yticklabels(y_tokens)\n",
    "\n",
    "    def visualize(self, input_text, output_text, scale = 0.3):\n",
    "        encoder_tokens, encoder_input_ids = self.tokenize(input_text)\n",
    "        decoder_tokens, decoder_input_ids = self.tokenize(output_text)\n",
    "        scores = self.get_qk(encoder_input_ids, decoder_input_ids)\n",
    "        height = len(input_text) * scale\n",
    "        width = len(output_text) * scale\n",
    "        draw_heatmap(scores.detach().numpy(), encoder_tokens,decoder_tokens, height = height, width = width)"
   ]
  },
  {
   "cell_type": "code",
   "execution_count": 11,
   "id": "0c578e91",
   "metadata": {
    "execution": {
     "iopub.execute_input": "2023-08-09T09:14:55.959594Z",
     "iopub.status.busy": "2023-08-09T09:14:55.959152Z",
     "iopub.status.idle": "2023-08-09T09:14:55.965081Z",
     "shell.execute_reply": "2023-08-09T09:14:55.963784Z"
    },
    "id": "gytaM6dpsDrG",
    "outputId": "c18316a7-0baf-4123-dd89-e0f4612a3e24",
    "papermill": {
     "duration": 0.017862,
     "end_time": "2023-08-09T09:14:55.967624",
     "exception": false,
     "start_time": "2023-08-09T09:14:55.949762",
     "status": "completed"
    },
    "tags": []
   },
   "outputs": [],
   "source": [
    "visualizer = CrossAttentionVisualizer(model, tokenizer)"
   ]
  },
  {
   "cell_type": "code",
   "execution_count": 12,
   "id": "48c84c4c",
   "metadata": {
    "execution": {
     "iopub.execute_input": "2023-08-09T09:14:55.985448Z",
     "iopub.status.busy": "2023-08-09T09:14:55.984998Z",
     "iopub.status.idle": "2023-08-09T09:14:55.993345Z",
     "shell.execute_reply": "2023-08-09T09:14:55.991869Z"
    },
    "id": "dHnMhYx497RP",
    "papermill": {
     "duration": 0.021309,
     "end_time": "2023-08-09T09:14:55.996212",
     "exception": false,
     "start_time": "2023-08-09T09:14:55.974903",
     "status": "completed"
    },
    "tags": []
   },
   "outputs": [],
   "source": [
    "en_text = \"Hello, how are you today?\"\n",
    "fr_text = \"Bonjour, comment allez-vous aujourd'hui ?\"\n",
    "en_tokens, en_input_ids = visualizer.tokenize(en_text)\n",
    "fr_tokens, fr_input_ids = visualizer.tokenize(fr_text)"
   ]
  },
  {
   "cell_type": "code",
   "execution_count": 13,
   "id": "c6d4f88e",
   "metadata": {
    "execution": {
     "iopub.execute_input": "2023-08-09T09:14:56.013574Z",
     "iopub.status.busy": "2023-08-09T09:14:56.013078Z",
     "iopub.status.idle": "2023-08-09T09:14:56.734766Z",
     "shell.execute_reply": "2023-08-09T09:14:56.733577Z"
    },
    "id": "OOScgsLFGmJN",
    "outputId": "fd6d50b3-5599-474f-e013-28e3ee5234bb",
    "papermill": {
     "duration": 0.733427,
     "end_time": "2023-08-09T09:14:56.737314",
     "exception": false,
     "start_time": "2023-08-09T09:14:56.003887",
     "status": "completed"
    },
    "tags": []
   },
   "outputs": [
    {
     "name": "stdout",
     "output_type": "stream",
     "text": [
      "torch.Size([13, 768]) torch.Size([8, 768])\n"
     ]
    },
    {
     "data": {
      "image/png": "[encoded data removed]",
      "text/plain": [
       "<Figure size 750x1230 with 2 Axes>"
      ]
     },
     "metadata": {},
     "output_type": "display_data"
    }
   ],
   "source": [
    "visualizer.visualize(en_text, fr_text)"
   ]
  }
 ],
 "metadata": {
  "kernelspec": {
   "display_name": "Python 3",
   "language": "python",
   "name": "python3"
  },
  "language_info": {
   "codemirror_mode": {
    "name": "ipython",
    "version": 3
   },
   "file_extension": ".py",
   "mimetype": "text/x-python",
   "name": "python",
   "nbconvert_exporter": "python",
   "pygments_lexer": "ipython3",
   "version": "3.10.12"
  },
  "papermill": {
   "default_parameters": {},
   "duration": 59.82057,
   "end_time": "2023-08-09T09:15:00.274210",
   "environment_variables": {},
   "exception": null,
   "input_path": "__notebook__.ipynb",
   "output_path": "__notebook__.ipynb",
   "parameters": {},
   "start_time": "2023-08-09T09:14:00.453640",
   "version": "2.4.0"
  },
  "widgets": {
   "application/vnd.jupyter.widget-state+json": {
    "state": {
     "00ca28f0a45c442fbad5e7fa3c7a2bd5": {
      "model_module": "@jupyter-widgets/base",
      "model_module_version": "1.2.0",
      "model_name": "LayoutModel",
      "state": {
       "_model_module": "@jupyter-widgets/base",
       "_model_module_version": "1.2.0",
       "_model_name": "LayoutModel",
       "_view_count": null,
       "_view_module": "@jupyter-widgets/base",
       "_view_module_version": "1.2.0",
       "_view_name": "LayoutView",
       "align_content": null,
       "align_items": null,
       "align_self": null,
       "border": null,
       "bottom": null,
       "display": null,
       "flex": null,
       "flex_flow": null,
       "grid_area": null,
       "grid_auto_columns": null,
       "grid_auto_flow": null,
       "grid_auto_rows": null,
       "grid_column": null,
       "grid_gap": null,
       "grid_row": null,
       "grid_template_areas": null,
       "grid_template_columns": null,
       "grid_template_rows": null,
       "height": null,
       "justify_content": null,
       "justify_items": null,
       "left": null,
       "margin": null,
       "max_height": null,
       "max_width": null,
       "min_height": null,
       "min_width": null,
       "object_fit": null,
       "object_position": null,
       "order": null,
       "overflow": null,
       "overflow_x": null,
       "overflow_y": null,
       "padding": null,
       "right": null,
       "top": null,
       "visibility": null,
       "width": null
      }
     },
     "0309f870e66e4f71a6d098ec977764ca": {
      "model_module": "@jupyter-widgets/controls",
      "model_module_version": "1.5.0",
      "model_name": "DescriptionStyleModel",
      "state": {
       "_model_module": "@jupyter-widgets/controls",
       "_model_module_version": "1.5.0",
       "_model_name": "DescriptionStyleModel",
       "_view_count": null,
       "_view_module": "@jupyter-widgets/base",
       "_view_module_version": "1.2.0",
       "_view_name": "StyleView",
       "description_width": ""
      }
     },
     "044e21abded148b59cc9dd06254b62ae": {
      "model_module": "@jupyter-widgets/controls",
      "model_module_version": "1.5.0",
      "model_name": "FloatProgressModel",
      "state": {
       "_dom_classes": [],
       "_model_module": "@jupyter-widgets/controls",
       "_model_module_version": "1.5.0",
       "_model_name": "FloatProgressModel",
       "_view_count": null,
       "_view_module": "@jupyter-widgets/controls",
       "_view_module_version": "1.5.0",
       "_view_name": "ProgressView",
       "bar_style": "success",
       "description": "",
       "description_tooltip": null,
       "layout": "IPY_MODEL_bc975ac5ee33452a8061e70fdb356824",
       "max": 891646390.0,
       "min": 0.0,
       "orientation": "horizontal",
       "style": "IPY_MODEL_7b4c85a7d0d24a8985a5c8b6cb4e7f6d",
       "value": 891646390.0
      }
     },
     "04837bf5cbcc401ba02294c5d4cc31bd": {
      "model_module": "@jupyter-widgets/base",
      "model_module_version": "1.2.0",
      "model_name": "LayoutModel",
      "state": {
       "_model_module": "@jupyter-widgets/base",
       "_model_module_version": "1.2.0",
       "_model_name": "LayoutModel",
       "_view_count": null,
       "_view_module": "@jupyter-widgets/base",
       "_view_module_version": "1.2.0",
       "_view_name": "LayoutView",
       "align_content": null,
       "align_items": null,
       "align_self": null,
       "border": null,
       "bottom": null,
       "display": null,
       "flex": null,
       "flex_flow": null,
       "grid_area": null,
       "grid_auto_columns": null,
       "grid_auto_flow": null,
       "grid_auto_rows": null,
       "grid_column": null,
       "grid_gap": null,
       "grid_row": null,
       "grid_template_areas": null,
       "grid_template_columns": null,
       "grid_template_rows": null,
       "height": null,
       "justify_content": null,
       "justify_items": null,
       "left": null,
       "margin": null,
       "max_height": null,
       "max_width": null,
       "min_height": null,
       "min_width": null,
       "object_fit": null,
       "object_position": null,
       "order": null,
       "overflow": null,
       "overflow_x": null,
       "overflow_y": null,
       "padding": null,
       "right": null,
       "top": null,
       "visibility": null,
       "width": null
      }
     },
     "099b7449059d480b82279ce141778659": {
      "model_module": "@jupyter-widgets/controls",
      "model_module_version": "1.5.0",
      "model_name": "FloatProgressModel",
      "state": {
       "_dom_classes": [],
       "_model_module": "@jupyter-widgets/controls",
       "_model_module_version": "1.5.0",
       "_model_name": "FloatProgressModel",
       "_view_count": null,
       "_view_module": "@jupyter-widgets/controls",
       "_view_module_version": "1.5.0",
       "_view_name": "ProgressView",
       "bar_style": "success",
       "description": "",
       "description_tooltip": null,
       "layout": "IPY_MODEL_42e97392c1f4420fbe3ade1f267f1560",
       "max": 791656.0,
       "min": 0.0,
       "orientation": "horizontal",
       "style": "IPY_MODEL_934892bb3a9f420697b648b2135acd1a",
       "value": 791656.0
      }
     },
     "0a281840d710404789d7cea6591197c3": {
      "model_module": "@jupyter-widgets/base",
      "model_module_version": "1.2.0",
      "model_name": "LayoutModel",
      "state": {
       "_model_module": "@jupyter-widgets/base",
       "_model_module_version": "1.2.0",
       "_model_name": "LayoutModel",
       "_view_count": null,
       "_view_module": "@jupyter-widgets/base",
       "_view_module_version": "1.2.0",
       "_view_name": "LayoutView",
       "align_content": null,
       "align_items": null,
       "align_self": null,
       "border": null,
       "bottom": null,
       "display": null,
       "flex": null,
       "flex_flow": null,
       "grid_area": null,
       "grid_auto_columns": null,
       "grid_auto_flow": null,
       "grid_auto_rows": null,
       "grid_column": null,
       "grid_gap": null,
       "grid_row": null,
       "grid_template_areas": null,
       "grid_template_columns": null,
       "grid_template_rows": null,
       "height": null,
       "justify_content": null,
       "justify_items": null,
       "left": null,
       "margin": null,
       "max_height": null,
       "max_width": null,
       "min_height": null,
       "min_width": null,
       "object_fit": null,
       "object_position": null,
       "order": null,
       "overflow": null,
       "overflow_x": null,
       "overflow_y": null,
       "padding": null,
       "right": null,
       "top": null,
       "visibility": null,
       "width": null
      }
     },
     "0e90385b2ce74ff98333c730647cd6d8": {
      "model_module": "@jupyter-widgets/controls",
      "model_module_version": "1.5.0",
      "model_name": "DescriptionStyleModel",
      "state": {
       "_model_module": "@jupyter-widgets/controls",
       "_model_module_version": "1.5.0",
       "_model_name": "DescriptionStyleModel",
       "_view_count": null,
       "_view_module": "@jupyter-widgets/base",
       "_view_module_version": "1.2.0",
       "_view_name": "StyleView",
       "description_width": ""
      }
     },
     "16c2c41c1cd64805a409d4d931ca2463": {
      "model_module": "@jupyter-widgets/controls",
      "model_module_version": "1.5.0",
      "model_name": "HTMLModel",
      "state": {
       "_dom_classes": [],
       "_model_module": "@jupyter-widgets/controls",
       "_model_module_version": "1.5.0",
       "_model_name": "HTMLModel",
       "_view_count": null,
       "_view_module": "@jupyter-widgets/controls",
       "_view_module_version": "1.5.0",
       "_view_name": "HTMLView",
       "description": "",
       "description_tooltip": null,
       "layout": "IPY_MODEL_ae8477473a7f42a7b0c22d969809344f",
       "placeholder": "​",
       "style": "IPY_MODEL_9565e768098248ac87e5bee860a8a6a9",
       "value": " 792k/792k [00:00&lt;00:00, 4.28MB/s]"
      }
     },
     "176c52ecb0ff4353b83563e19fbc77f2": {
      "model_module": "@jupyter-widgets/controls",
      "model_module_version": "1.5.0",
      "model_name": "HBoxModel",
      "state": {
       "_dom_classes": [],
       "_model_module": "@jupyter-widgets/controls",
       "_model_module_version": "1.5.0",
       "_model_name": "HBoxModel",
       "_view_count": null,
       "_view_module": "@jupyter-widgets/controls",
       "_view_module_version": "1.5.0",
       "_view_name": "HBoxView",
       "box_style": "",
       "children": [
        "IPY_MODEL_3e307876b9d341f6ada2a1e420f64639",
        "IPY_MODEL_580e9c236e784c1e84c10f651823fd59",
        "IPY_MODEL_2e60089869f64d1faae5e5fd16148997"
       ],
       "layout": "IPY_MODEL_fcda3274d97e4024b600f1ac85b5b4f4"
      }
     },
     "1e36489d620c420eba76e921e157faef": {
      "model_module": "@jupyter-widgets/base",
      "model_module_version": "1.2.0",
      "model_name": "LayoutModel",
      "state": {
       "_model_module": "@jupyter-widgets/base",
       "_model_module_version": "1.2.0",
       "_model_name": "LayoutModel",
       "_view_count": null,
       "_view_module": "@jupyter-widgets/base",
       "_view_module_version": "1.2.0",
       "_view_name": "LayoutView",
       "align_content": null,
       "align_items": null,
       "align_self": null,
       "border": null,
       "bottom": null,
       "display": null,
       "flex": null,
       "flex_flow": null,
       "grid_area": null,
       "grid_auto_columns": null,
       "grid_auto_flow": null,
       "grid_auto_rows": null,
       "grid_column": null,
       "grid_gap": null,
       "grid_row": null,
       "grid_template_areas": null,
       "grid_template_columns": null,
       "grid_template_rows": null,
       "height": null,
       "justify_content": null,
       "justify_items": null,
       "left": null,
       "margin": null,
       "max_height": null,
       "max_width": null,
       "min_height": null,
       "min_width": null,
       "object_fit": null,
       "object_position": null,
       "order": null,
       "overflow": null,
       "overflow_x": null,
       "overflow_y": null,
       "padding": null,
       "right": null,
       "top": null,
       "visibility": null,
       "width": null
      }
     },
     "21628c5e6af54e028c2666eaef388e8f": {
      "model_module": "@jupyter-widgets/base",
      "model_module_version": "1.2.0",
      "model_name": "LayoutModel",
      "state": {
       "_model_module": "@jupyter-widgets/base",
       "_model_module_version": "1.2.0",
       "_model_name": "LayoutModel",
       "_view_count": null,
       "_view_module": "@jupyter-widgets/base",
       "_view_module_version": "1.2.0",
       "_view_name": "LayoutView",
       "align_content": null,
       "align_items": null,
       "align_self": null,
       "border": null,
       "bottom": null,
       "display": null,
       "flex": null,
       "flex_flow": null,
       "grid_area": null,
       "grid_auto_columns": null,
       "grid_auto_flow": null,
       "grid_auto_rows": null,
       "grid_column": null,
       "grid_gap": null,
       "grid_row": null,
       "grid_template_areas": null,
       "grid_template_columns": null,
       "grid_template_rows": null,
       "height": null,
       "justify_content": null,
       "justify_items": null,
       "left": null,
       "margin": null,
       "max_height": null,
       "max_width": null,
       "min_height": null,
       "min_width": null,
       "object_fit": null,
       "object_position": null,
       "order": null,
       "overflow": null,
       "overflow_x": null,
       "overflow_y": null,
       "padding": null,
       "right": null,
       "top": null,
       "visibility": null,
       "width": null
      }
     },
     "25addf7e165445b19e7b85e74855d66f": {
      "model_module": "@jupyter-widgets/base",
      "model_module_version": "1.2.0",
      "model_name": "LayoutModel",
      "state": {
       "_model_module": "@jupyter-widgets/base",
       "_model_module_version": "1.2.0",
       "_model_name": "LayoutModel",
       "_view_count": null,
       "_view_module": "@jupyter-widgets/base",
       "_view_module_version": "1.2.0",
       "_view_name": "LayoutView",
       "align_content": null,
       "align_items": null,
       "align_self": null,
       "border": null,
       "bottom": null,
       "display": null,
       "flex": null,
       "flex_flow": null,
       "grid_area": null,
       "grid_auto_columns": null,
       "grid_auto_flow": null,
       "grid_auto_rows": null,
       "grid_column": null,
       "grid_gap": null,
       "grid_row": null,
       "grid_template_areas": null,
       "grid_template_columns": null,
       "grid_template_rows": null,
       "height": null,
       "justify_content": null,
       "justify_items": null,
       "left": null,
       "margin": null,
       "max_height": null,
       "max_width": null,
       "min_height": null,
       "min_width": null,
       "object_fit": null,
       "object_position": null,
       "order": null,
       "overflow": null,
       "overflow_x": null,
       "overflow_y": null,
       "padding": null,
       "right": null,
       "top": null,
       "visibility": null,
       "width": null
      }
     },
     "2924cca9959842bfa31f41ea765593e9": {
      "model_module": "@jupyter-widgets/controls",
      "model_module_version": "1.5.0",
      "model_name": "HBoxModel",
      "state": {
       "_dom_classes": [],
       "_model_module": "@jupyter-widgets/controls",
       "_model_module_version": "1.5.0",
       "_model_name": "HBoxModel",
       "_view_count": null,
       "_view_module": "@jupyter-widgets/controls",
       "_view_module_version": "1.5.0",
       "_view_name": "HBoxView",
       "box_style": "",
       "children": [
        "IPY_MODEL_548c1f5998a649e9a2532a7c9e6bdcc7",
        "IPY_MODEL_099b7449059d480b82279ce141778659",
        "IPY_MODEL_16c2c41c1cd64805a409d4d931ca2463"
       ],
       "layout": "IPY_MODEL_b26394436ee540d8b7615a8525afbc98"
      }
     },
     "29c047c8f87f44e7b2ff3c410d100ac1": {
      "model_module": "@jupyter-widgets/base",
      "model_module_version": "1.2.0",
      "model_name": "LayoutModel",
      "state": {
       "_model_module": "@jupyter-widgets/base",
       "_model_module_version": "1.2.0",
       "_model_name": "LayoutModel",
       "_view_count": null,
       "_view_module": "@jupyter-widgets/base",
       "_view_module_version": "1.2.0",
       "_view_name": "LayoutView",
       "align_content": null,
       "align_items": null,
       "align_self": null,
       "border": null,
       "bottom": null,
       "display": null,
       "flex": null,
       "flex_flow": null,
       "grid_area": null,
       "grid_auto_columns": null,
       "grid_auto_flow": null,
       "grid_auto_rows": null,
       "grid_column": null,
       "grid_gap": null,
       "grid_row": null,
       "grid_template_areas": null,
       "grid_template_columns": null,
       "grid_template_rows": null,
       "height": null,
       "justify_content": null,
       "justify_items": null,
       "left": null,
       "margin": null,
       "max_height": null,
       "max_width": null,
       "min_height": null,
       "min_width": null,
       "object_fit": null,
       "object_position": null,
       "order": null,
       "overflow": null,
       "overflow_x": null,
       "overflow_y": null,
       "padding": null,
       "right": null,
       "top": null,
       "visibility": null,
       "width": null
      }
     },
     "2ba0b8bb031340908ab4325cdc48cccc": {
      "model_module": "@jupyter-widgets/controls",
      "model_module_version": "1.5.0",
      "model_name": "HBoxModel",
      "state": {
       "_dom_classes": [],
       "_model_module": "@jupyter-widgets/controls",
       "_model_module_version": "1.5.0",
       "_model_name": "HBoxModel",
       "_view_count": null,
       "_view_module": "@jupyter-widgets/controls",
       "_view_module_version": "1.5.0",
       "_view_name": "HBoxView",
       "box_style": "",
       "children": [
        "IPY_MODEL_cac8d1c8a5bc4e73b9fb0de6fd83e346",
        "IPY_MODEL_044e21abded148b59cc9dd06254b62ae",
        "IPY_MODEL_81b6c243663049b19def6820c5b8c674"
       ],
       "layout": "IPY_MODEL_21628c5e6af54e028c2666eaef388e8f"
      }
     },
     "2e60089869f64d1faae5e5fd16148997": {
      "model_module": "@jupyter-widgets/controls",
      "model_module_version": "1.5.0",
      "model_name": "HTMLModel",
      "state": {
       "_dom_classes": [],
       "_model_module": "@jupyter-widgets/controls",
       "_model_module_version": "1.5.0",
       "_model_name": "HTMLModel",
       "_view_count": null,
       "_view_module": "@jupyter-widgets/controls",
       "_view_module_version": "1.5.0",
       "_view_name": "HTMLView",
       "description": "",
       "description_tooltip": null,
       "layout": "IPY_MODEL_00ca28f0a45c442fbad5e7fa3c7a2bd5",
       "placeholder": "​",
       "style": "IPY_MODEL_38f04544b67245f790b3f67b3e46b6a4",
       "value": " 1.39M/1.39M [00:00&lt;00:00, 6.70MB/s]"
      }
     },
     "38f04544b67245f790b3f67b3e46b6a4": {
      "model_module": "@jupyter-widgets/controls",
      "model_module_version": "1.5.0",
      "model_name": "DescriptionStyleModel",
      "state": {
       "_model_module": "@jupyter-widgets/controls",
       "_model_module_version": "1.5.0",
       "_model_name": "DescriptionStyleModel",
       "_view_count": null,
       "_view_module": "@jupyter-widgets/base",
       "_view_module_version": "1.2.0",
       "_view_name": "StyleView",
       "description_width": ""
      }
     },
     "3e307876b9d341f6ada2a1e420f64639": {
      "model_module": "@jupyter-widgets/controls",
      "model_module_version": "1.5.0",
      "model_name": "HTMLModel",
      "state": {
       "_dom_classes": [],
       "_model_module": "@jupyter-widgets/controls",
       "_model_module_version": "1.5.0",
       "_model_name": "HTMLModel",
       "_view_count": null,
       "_view_module": "@jupyter-widgets/controls",
       "_view_module_version": "1.5.0",
       "_view_name": "HTMLView",
       "description": "",
       "description_tooltip": null,
       "layout": "IPY_MODEL_dbdd0e54095b4782a07a4383e3f02674",
       "placeholder": "​",
       "style": "IPY_MODEL_a62b50bdf1364ade95de1d291340372f",
       "value": "Downloading (…)/main/tokenizer.json: 100%"
      }
     },
     "42e97392c1f4420fbe3ade1f267f1560": {
      "model_module": "@jupyter-widgets/base",
      "model_module_version": "1.2.0",
      "model_name": "LayoutModel",
      "state": {
       "_model_module": "@jupyter-widgets/base",
       "_model_module_version": "1.2.0",
       "_model_name": "LayoutModel",
       "_view_count": null,
       "_view_module": "@jupyter-widgets/base",
       "_view_module_version": "1.2.0",
       "_view_name": "LayoutView",
       "align_content": null,
       "align_items": null,
       "align_self": null,
       "border": null,
       "bottom": null,
       "display": null,
       "flex": null,
       "flex_flow": null,
       "grid_area": null,
       "grid_auto_columns": null,
       "grid_auto_flow": null,
       "grid_auto_rows": null,
       "grid_column": null,
       "grid_gap": null,
       "grid_row": null,
       "grid_template_areas": null,
       "grid_template_columns": null,
       "grid_template_rows": null,
       "height": null,
       "justify_content": null,
       "justify_items": null,
       "left": null,
       "margin": null,
       "max_height": null,
       "max_width": null,
       "min_height": null,
       "min_width": null,
       "object_fit": null,
       "object_position": null,
       "order": null,
       "overflow": null,
       "overflow_x": null,
       "overflow_y": null,
       "padding": null,
       "right": null,
       "top": null,
       "visibility": null,
       "width": null
      }
     },
     "548c1f5998a649e9a2532a7c9e6bdcc7": {
      "model_module": "@jupyter-widgets/controls",
      "model_module_version": "1.5.0",
      "model_name": "HTMLModel",
      "state": {
       "_dom_classes": [],
       "_model_module": "@jupyter-widgets/controls",
       "_model_module_version": "1.5.0",
       "_model_name": "HTMLModel",
       "_view_count": null,
       "_view_module": "@jupyter-widgets/controls",
       "_view_module_version": "1.5.0",
       "_view_name": "HTMLView",
       "description": "",
       "description_tooltip": null,
       "layout": "IPY_MODEL_29c047c8f87f44e7b2ff3c410d100ac1",
       "placeholder": "​",
       "style": "IPY_MODEL_9a96fc8a35204a28ba21ea0f3726ef1c",
       "value": "Downloading (…)ve/main/spiece.model: 100%"
      }
     },
     "580e9c236e784c1e84c10f651823fd59": {
      "model_module": "@jupyter-widgets/controls",
      "model_module_version": "1.5.0",
      "model_name": "FloatProgressModel",
      "state": {
       "_dom_classes": [],
       "_model_module": "@jupyter-widgets/controls",
       "_model_module_version": "1.5.0",
       "_model_name": "FloatProgressModel",
       "_view_count": null,
       "_view_module": "@jupyter-widgets/controls",
       "_view_module_version": "1.5.0",
       "_view_name": "ProgressView",
       "bar_style": "success",
       "description": "",
       "description_tooltip": null,
       "layout": "IPY_MODEL_25addf7e165445b19e7b85e74855d66f",
       "max": 1389353.0,
       "min": 0.0,
       "orientation": "horizontal",
       "style": "IPY_MODEL_b6dd0e1ee9ff4748b451908ce54cea20",
       "value": 1389353.0
      }
     },
     "5dd0a0bd80814507ae837ad23432731f": {
      "model_module": "@jupyter-widgets/controls",
      "model_module_version": "1.5.0",
      "model_name": "ProgressStyleModel",
      "state": {
       "_model_module": "@jupyter-widgets/controls",
       "_model_module_version": "1.5.0",
       "_model_name": "ProgressStyleModel",
       "_view_count": null,
       "_view_module": "@jupyter-widgets/base",
       "_view_module_version": "1.2.0",
       "_view_name": "StyleView",
       "bar_color": null,
       "description_width": ""
      }
     },
     "655d66e873474755bcbd0a172f1a74ac": {
      "model_module": "@jupyter-widgets/base",
      "model_module_version": "1.2.0",
      "model_name": "LayoutModel",
      "state": {
       "_model_module": "@jupyter-widgets/base",
       "_model_module_version": "1.2.0",
       "_model_name": "LayoutModel",
       "_view_count": null,
       "_view_module": "@jupyter-widgets/base",
       "_view_module_version": "1.2.0",
       "_view_name": "LayoutView",
       "align_content": null,
       "align_items": null,
       "align_self": null,
       "border": null,
       "bottom": null,
       "display": null,
       "flex": null,
       "flex_flow": null,
       "grid_area": null,
       "grid_auto_columns": null,
       "grid_auto_flow": null,
       "grid_auto_rows": null,
       "grid_column": null,
       "grid_gap": null,
       "grid_row": null,
       "grid_template_areas": null,
       "grid_template_columns": null,
       "grid_template_rows": null,
       "height": null,
       "justify_content": null,
       "justify_items": null,
       "left": null,
       "margin": null,
       "max_height": null,
       "max_width": null,
       "min_height": null,
       "min_width": null,
       "object_fit": null,
       "object_position": null,
       "order": null,
       "overflow": null,
       "overflow_x": null,
       "overflow_y": null,
       "padding": null,
       "right": null,
       "top": null,
       "visibility": null,
       "width": null
      }
     },
     "7b4c85a7d0d24a8985a5c8b6cb4e7f6d": {
      "model_module": "@jupyter-widgets/controls",
      "model_module_version": "1.5.0",
      "model_name": "ProgressStyleModel",
      "state": {
       "_model_module": "@jupyter-widgets/controls",
       "_model_module_version": "1.5.0",
       "_model_name": "ProgressStyleModel",
       "_view_count": null,
       "_view_module": "@jupyter-widgets/base",
       "_view_module_version": "1.2.0",
       "_view_name": "StyleView",
       "bar_color": null,
       "description_width": ""
      }
     },
     "81b6c243663049b19def6820c5b8c674": {
      "model_module": "@jupyter-widgets/controls",
      "model_module_version": "1.5.0",
      "model_name": "HTMLModel",
      "state": {
       "_dom_classes": [],
       "_model_module": "@jupyter-widgets/controls",
       "_model_module_version": "1.5.0",
       "_model_name": "HTMLModel",
       "_view_count": null,
       "_view_module": "@jupyter-widgets/controls",
       "_view_module_version": "1.5.0",
       "_view_name": "HTMLView",
       "description": "",
       "description_tooltip": null,
       "layout": "IPY_MODEL_0a281840d710404789d7cea6591197c3",
       "placeholder": "​",
       "style": "IPY_MODEL_987c37ed0f5243ee93ba52c2dbb6708e",
       "value": " 892M/892M [00:03&lt;00:00, 258MB/s]"
      }
     },
     "934892bb3a9f420697b648b2135acd1a": {
      "model_module": "@jupyter-widgets/controls",
      "model_module_version": "1.5.0",
      "model_name": "ProgressStyleModel",
      "state": {
       "_model_module": "@jupyter-widgets/controls",
       "_model_module_version": "1.5.0",
       "_model_name": "ProgressStyleModel",
       "_view_count": null,
       "_view_module": "@jupyter-widgets/base",
       "_view_module_version": "1.2.0",
       "_view_name": "StyleView",
       "bar_color": null,
       "description_width": ""
      }
     },
     "935c63db7fc74994aea08f9b3f9fd8a3": {
      "model_module": "@jupyter-widgets/controls",
      "model_module_version": "1.5.0",
      "model_name": "HBoxModel",
      "state": {
       "_dom_classes": [],
       "_model_module": "@jupyter-widgets/controls",
       "_model_module_version": "1.5.0",
       "_model_name": "HBoxModel",
       "_view_count": null,
       "_view_module": "@jupyter-widgets/controls",
       "_view_module_version": "1.5.0",
       "_view_name": "HBoxView",
       "box_style": "",
       "children": [
        "IPY_MODEL_e45bb91ae1454e728a6603f06a9ae25f",
        "IPY_MODEL_aa945f22e6774a339592473e027c9412",
        "IPY_MODEL_af0ea2d6962946c5aa0d525ee231cb0c"
       ],
       "layout": "IPY_MODEL_655d66e873474755bcbd0a172f1a74ac"
      }
     },
     "9565e768098248ac87e5bee860a8a6a9": {
      "model_module": "@jupyter-widgets/controls",
      "model_module_version": "1.5.0",
      "model_name": "DescriptionStyleModel",
      "state": {
       "_model_module": "@jupyter-widgets/controls",
       "_model_module_version": "1.5.0",
       "_model_name": "DescriptionStyleModel",
       "_view_count": null,
       "_view_module": "@jupyter-widgets/base",
       "_view_module_version": "1.2.0",
       "_view_name": "StyleView",
       "description_width": ""
      }
     },
     "987c37ed0f5243ee93ba52c2dbb6708e": {
      "model_module": "@jupyter-widgets/controls",
      "model_module_version": "1.5.0",
      "model_name": "DescriptionStyleModel",
      "state": {
       "_model_module": "@jupyter-widgets/controls",
       "_model_module_version": "1.5.0",
       "_model_name": "DescriptionStyleModel",
       "_view_count": null,
       "_view_module": "@jupyter-widgets/base",
       "_view_module_version": "1.2.0",
       "_view_name": "StyleView",
       "description_width": ""
      }
     },
     "9a96fc8a35204a28ba21ea0f3726ef1c": {
      "model_module": "@jupyter-widgets/controls",
      "model_module_version": "1.5.0",
      "model_name": "DescriptionStyleModel",
      "state": {
       "_model_module": "@jupyter-widgets/controls",
       "_model_module_version": "1.5.0",
       "_model_name": "DescriptionStyleModel",
       "_view_count": null,
       "_view_module": "@jupyter-widgets/base",
       "_view_module_version": "1.2.0",
       "_view_name": "StyleView",
       "description_width": ""
      }
     },
     "a62b50bdf1364ade95de1d291340372f": {
      "model_module": "@jupyter-widgets/controls",
      "model_module_version": "1.5.0",
      "model_name": "DescriptionStyleModel",
      "state": {
       "_model_module": "@jupyter-widgets/controls",
       "_model_module_version": "1.5.0",
       "_model_name": "DescriptionStyleModel",
       "_view_count": null,
       "_view_module": "@jupyter-widgets/base",
       "_view_module_version": "1.2.0",
       "_view_name": "StyleView",
       "description_width": ""
      }
     },
     "aa945f22e6774a339592473e027c9412": {
      "model_module": "@jupyter-widgets/controls",
      "model_module_version": "1.5.0",
      "model_name": "FloatProgressModel",
      "state": {
       "_dom_classes": [],
       "_model_module": "@jupyter-widgets/controls",
       "_model_module_version": "1.5.0",
       "_model_name": "FloatProgressModel",
       "_view_count": null,
       "_view_module": "@jupyter-widgets/controls",
       "_view_module_version": "1.5.0",
       "_view_name": "ProgressView",
       "bar_style": "success",
       "description": "",
       "description_tooltip": null,
       "layout": "IPY_MODEL_04837bf5cbcc401ba02294c5d4cc31bd",
       "max": 1208.0,
       "min": 0.0,
       "orientation": "horizontal",
       "style": "IPY_MODEL_5dd0a0bd80814507ae837ad23432731f",
       "value": 1208.0
      }
     },
     "ae8477473a7f42a7b0c22d969809344f": {
      "model_module": "@jupyter-widgets/base",
      "model_module_version": "1.2.0",
      "model_name": "LayoutModel",
      "state": {
       "_model_module": "@jupyter-widgets/base",
       "_model_module_version": "1.2.0",
       "_model_name": "LayoutModel",
       "_view_count": null,
       "_view_module": "@jupyter-widgets/base",
       "_view_module_version": "1.2.0",
       "_view_name": "LayoutView",
       "align_content": null,
       "align_items": null,
       "align_self": null,
       "border": null,
       "bottom": null,
       "display": null,
       "flex": null,
       "flex_flow": null,
       "grid_area": null,
       "grid_auto_columns": null,
       "grid_auto_flow": null,
       "grid_auto_rows": null,
       "grid_column": null,
       "grid_gap": null,
       "grid_row": null,
       "grid_template_areas": null,
       "grid_template_columns": null,
       "grid_template_rows": null,
       "height": null,
       "justify_content": null,
       "justify_items": null,
       "left": null,
       "margin": null,
       "max_height": null,
       "max_width": null,
       "min_height": null,
       "min_width": null,
       "object_fit": null,
       "object_position": null,
       "order": null,
       "overflow": null,
       "overflow_x": null,
       "overflow_y": null,
       "padding": null,
       "right": null,
       "top": null,
       "visibility": null,
       "width": null
      }
     },
     "af0ea2d6962946c5aa0d525ee231cb0c": {
      "model_module": "@jupyter-widgets/controls",
      "model_module_version": "1.5.0",
      "model_name": "HTMLModel",
      "state": {
       "_dom_classes": [],
       "_model_module": "@jupyter-widgets/controls",
       "_model_module_version": "1.5.0",
       "_model_name": "HTMLModel",
       "_view_count": null,
       "_view_module": "@jupyter-widgets/controls",
       "_view_module_version": "1.5.0",
       "_view_name": "HTMLView",
       "description": "",
       "description_tooltip": null,
       "layout": "IPY_MODEL_1e36489d620c420eba76e921e157faef",
       "placeholder": "​",
       "style": "IPY_MODEL_0e90385b2ce74ff98333c730647cd6d8",
       "value": " 1.21k/1.21k [00:00&lt;00:00, 55.3kB/s]"
      }
     },
     "b26394436ee540d8b7615a8525afbc98": {
      "model_module": "@jupyter-widgets/base",
      "model_module_version": "1.2.0",
      "model_name": "LayoutModel",
      "state": {
       "_model_module": "@jupyter-widgets/base",
       "_model_module_version": "1.2.0",
       "_model_name": "LayoutModel",
       "_view_count": null,
       "_view_module": "@jupyter-widgets/base",
       "_view_module_version": "1.2.0",
       "_view_name": "LayoutView",
       "align_content": null,
       "align_items": null,
       "align_self": null,
       "border": null,
       "bottom": null,
       "display": null,
       "flex": null,
       "flex_flow": null,
       "grid_area": null,
       "grid_auto_columns": null,
       "grid_auto_flow": null,
       "grid_auto_rows": null,
       "grid_column": null,
       "grid_gap": null,
       "grid_row": null,
       "grid_template_areas": null,
       "grid_template_columns": null,
       "grid_template_rows": null,
       "height": null,
       "justify_content": null,
       "justify_items": null,
       "left": null,
       "margin": null,
       "max_height": null,
       "max_width": null,
       "min_height": null,
       "min_width": null,
       "object_fit": null,
       "object_position": null,
       "order": null,
       "overflow": null,
       "overflow_x": null,
       "overflow_y": null,
       "padding": null,
       "right": null,
       "top": null,
       "visibility": null,
       "width": null
      }
     },
     "b63e9959392448a18ac6c77190bbd5d5": {
      "model_module": "@jupyter-widgets/base",
      "model_module_version": "1.2.0",
      "model_name": "LayoutModel",
      "state": {
       "_model_module": "@jupyter-widgets/base",
       "_model_module_version": "1.2.0",
       "_model_name": "LayoutModel",
       "_view_count": null,
       "_view_module": "@jupyter-widgets/base",
       "_view_module_version": "1.2.0",
       "_view_name": "LayoutView",
       "align_content": null,
       "align_items": null,
       "align_self": null,
       "border": null,
       "bottom": null,
       "display": null,
       "flex": null,
       "flex_flow": null,
       "grid_area": null,
       "grid_auto_columns": null,
       "grid_auto_flow": null,
       "grid_auto_rows": null,
       "grid_column": null,
       "grid_gap": null,
       "grid_row": null,
       "grid_template_areas": null,
       "grid_template_columns": null,
       "grid_template_rows": null,
       "height": null,
       "justify_content": null,
       "justify_items": null,
       "left": null,
       "margin": null,
       "max_height": null,
       "max_width": null,
       "min_height": null,
       "min_width": null,
       "object_fit": null,
       "object_position": null,
       "order": null,
       "overflow": null,
       "overflow_x": null,
       "overflow_y": null,
       "padding": null,
       "right": null,
       "top": null,
       "visibility": null,
       "width": null
      }
     },
     "b6dd0e1ee9ff4748b451908ce54cea20": {
      "model_module": "@jupyter-widgets/controls",
      "model_module_version": "1.5.0",
      "model_name": "ProgressStyleModel",
      "state": {
       "_model_module": "@jupyter-widgets/controls",
       "_model_module_version": "1.5.0",
       "_model_name": "ProgressStyleModel",
       "_view_count": null,
       "_view_module": "@jupyter-widgets/base",
       "_view_module_version": "1.2.0",
       "_view_name": "StyleView",
       "bar_color": null,
       "description_width": ""
      }
     },
     "bc975ac5ee33452a8061e70fdb356824": {
      "model_module": "@jupyter-widgets/base",
      "model_module_version": "1.2.0",
      "model_name": "LayoutModel",
      "state": {
       "_model_module": "@jupyter-widgets/base",
       "_model_module_version": "1.2.0",
       "_model_name": "LayoutModel",
       "_view_count": null,
       "_view_module": "@jupyter-widgets/base",
       "_view_module_version": "1.2.0",
       "_view_name": "LayoutView",
       "align_content": null,
       "align_items": null,
       "align_self": null,
       "border": null,
       "bottom": null,
       "display": null,
       "flex": null,
       "flex_flow": null,
       "grid_area": null,
       "grid_auto_columns": null,
       "grid_auto_flow": null,
       "grid_auto_rows": null,
       "grid_column": null,
       "grid_gap": null,
       "grid_row": null,
       "grid_template_areas": null,
       "grid_template_columns": null,
       "grid_template_rows": null,
       "height": null,
       "justify_content": null,
       "justify_items": null,
       "left": null,
       "margin": null,
       "max_height": null,
       "max_width": null,
       "min_height": null,
       "min_width": null,
       "object_fit": null,
       "object_position": null,
       "order": null,
       "overflow": null,
       "overflow_x": null,
       "overflow_y": null,
       "padding": null,
       "right": null,
       "top": null,
       "visibility": null,
       "width": null
      }
     },
     "c19185b7a690417aaa01443f452a7797": {
      "model_module": "@jupyter-widgets/controls",
      "model_module_version": "1.5.0",
      "model_name": "DescriptionStyleModel",
      "state": {
       "_model_module": "@jupyter-widgets/controls",
       "_model_module_version": "1.5.0",
       "_model_name": "DescriptionStyleModel",
       "_view_count": null,
       "_view_module": "@jupyter-widgets/base",
       "_view_module_version": "1.2.0",
       "_view_name": "StyleView",
       "description_width": ""
      }
     },
     "cac8d1c8a5bc4e73b9fb0de6fd83e346": {
      "model_module": "@jupyter-widgets/controls",
      "model_module_version": "1.5.0",
      "model_name": "HTMLModel",
      "state": {
       "_dom_classes": [],
       "_model_module": "@jupyter-widgets/controls",
       "_model_module_version": "1.5.0",
       "_model_name": "HTMLModel",
       "_view_count": null,
       "_view_module": "@jupyter-widgets/controls",
       "_view_module_version": "1.5.0",
       "_view_name": "HTMLView",
       "description": "",
       "description_tooltip": null,
       "layout": "IPY_MODEL_f2cb4c5fcbcc4e708abcf9fe92c0f845",
       "placeholder": "​",
       "style": "IPY_MODEL_c19185b7a690417aaa01443f452a7797",
       "value": "Downloading model.safetensors: 100%"
      }
     },
     "dbdd0e54095b4782a07a4383e3f02674": {
      "model_module": "@jupyter-widgets/base",
      "model_module_version": "1.2.0",
      "model_name": "LayoutModel",
      "state": {
       "_model_module": "@jupyter-widgets/base",
       "_model_module_version": "1.2.0",
       "_model_name": "LayoutModel",
       "_view_count": null,
       "_view_module": "@jupyter-widgets/base",
       "_view_module_version": "1.2.0",
       "_view_name": "LayoutView",
       "align_content": null,
       "align_items": null,
       "align_self": null,
       "border": null,
       "bottom": null,
       "display": null,
       "flex": null,
       "flex_flow": null,
       "grid_area": null,
       "grid_auto_columns": null,
       "grid_auto_flow": null,
       "grid_auto_rows": null,
       "grid_column": null,
       "grid_gap": null,
       "grid_row": null,
       "grid_template_areas": null,
       "grid_template_columns": null,
       "grid_template_rows": null,
       "height": null,
       "justify_content": null,
       "justify_items": null,
       "left": null,
       "margin": null,
       "max_height": null,
       "max_width": null,
       "min_height": null,
       "min_width": null,
       "object_fit": null,
       "object_position": null,
       "order": null,
       "overflow": null,
       "overflow_x": null,
       "overflow_y": null,
       "padding": null,
       "right": null,
       "top": null,
       "visibility": null,
       "width": null
      }
     },
     "e45bb91ae1454e728a6603f06a9ae25f": {
      "model_module": "@jupyter-widgets/controls",
      "model_module_version": "1.5.0",
      "model_name": "HTMLModel",
      "state": {
       "_dom_classes": [],
       "_model_module": "@jupyter-widgets/controls",
       "_model_module_version": "1.5.0",
       "_model_name": "HTMLModel",
       "_view_count": null,
       "_view_module": "@jupyter-widgets/controls",
       "_view_module_version": "1.5.0",
       "_view_name": "HTMLView",
       "description": "",
       "description_tooltip": null,
       "layout": "IPY_MODEL_b63e9959392448a18ac6c77190bbd5d5",
       "placeholder": "​",
       "style": "IPY_MODEL_0309f870e66e4f71a6d098ec977764ca",
       "value": "Downloading (…)lve/main/config.json: 100%"
      }
     },
     "f2cb4c5fcbcc4e708abcf9fe92c0f845": {
      "model_module": "@jupyter-widgets/base",
      "model_module_version": "1.2.0",
      "model_name": "LayoutModel",
      "state": {
       "_model_module": "@jupyter-widgets/base",
       "_model_module_version": "1.2.0",
       "_model_name": "LayoutModel",
       "_view_count": null,
       "_view_module": "@jupyter-widgets/base",
       "_view_module_version": "1.2.0",
       "_view_name": "LayoutView",
       "align_content": null,
       "align_items": null,
       "align_self": null,
       "border": null,
       "bottom": null,
       "display": null,
       "flex": null,
       "flex_flow": null,
       "grid_area": null,
       "grid_auto_columns": null,
       "grid_auto_flow": null,
       "grid_auto_rows": null,
       "grid_column": null,
       "grid_gap": null,
       "grid_row": null,
       "grid_template_areas": null,
       "grid_template_columns": null,
       "grid_template_rows": null,
       "height": null,
       "justify_content": null,
       "justify_items": null,
       "left": null,
       "margin": null,
       "max_height": null,
       "max_width": null,
       "min_height": null,
       "min_width": null,
       "object_fit": null,
       "object_position": null,
       "order": null,
       "overflow": null,
       "overflow_x": null,
       "overflow_y": null,
       "padding": null,
       "right": null,
       "top": null,
       "visibility": null,
       "width": null
      }
     },
     "fcda3274d97e4024b600f1ac85b5b4f4": {
      "model_module": "@jupyter-widgets/base",
      "model_module_version": "1.2.0",
      "model_name": "LayoutModel",
      "state": {
       "_model_module": "@jupyter-widgets/base",
       "_model_module_version": "1.2.0",
       "_model_name": "LayoutModel",
       "_view_count": null,
       "_view_module": "@jupyter-widgets/base",
       "_view_module_version": "1.2.0",
       "_view_name": "LayoutView",
       "align_content": null,
       "align_items": null,
       "align_self": null,
       "border": null,
       "bottom": null,
       "display": null,
       "flex": null,
       "flex_flow": null,
       "grid_area": null,
       "grid_auto_columns": null,
       "grid_auto_flow": null,
       "grid_auto_rows": null,
       "grid_column": null,
       "grid_gap": null,
       "grid_row": null,
       "grid_template_areas": null,
       "grid_template_columns": null,
       "grid_template_rows": null,
       "height": null,
       "justify_content": null,
       "justify_items": null,
       "left": null,
       "margin": null,
       "max_height": null,
       "max_width": null,
       "min_height": null,
       "min_width": null,
       "object_fit": null,
       "object_position": null,
       "order": null,
       "overflow": null,
       "overflow_x": null,
       "overflow_y": null,
       "padding": null,
       "right": null,
       "top": null,
       "visibility": null,
       "width": null
      }
     }
    },
    "version_major": 2,
    "version_minor": 0
   }
  }
 },
 "nbformat": 4,
 "nbformat_minor": 5
}
